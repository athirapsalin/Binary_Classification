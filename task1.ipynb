{
 "cells": [
  {
   "cell_type": "markdown",
   "id": "c62cb683",
   "metadata": {},
   "source": [
    "# Internship Application Code Challenge @BMW"
   ]
  },
  {
   "cell_type": "markdown",
   "id": "437a0e9c",
   "metadata": {},
   "source": [
    "TASK 1:\n",
    "\n",
    "Write a function that takes as input two timestamps of the form 2017/05/13 12:00 and calculates their differences in hours.\n",
    "\n",
    "Please only return the full hour difference and round the results.\n",
    "E.g., 2022/02/15 00:05 and 2022/02/15 01:00 would return 1 hour.\n",
    "\n"
   ]
  },
  {
   "cell_type": "markdown",
   "id": "491f327d",
   "metadata": {},
   "source": [
    "Once you did this, please expand the above function so that only the time difference will be counted between 09:00 – 17:00 and only on weekdays.\n",
    "\n",
    "Let the user choose what function to use."
   ]
  },
  {
   "cell_type": "code",
   "execution_count": 1,
   "id": "d630bbc9",
   "metadata": {},
   "outputs": [],
   "source": [
    "from datetime import datetime,timedelta\n",
    "import pandas as pd "
   ]
  },
  {
   "cell_type": "code",
   "execution_count": 2,
   "id": "3e489b8e",
   "metadata": {},
   "outputs": [],
   "source": [
    "def hour_difference(start, end, weekday_cal = True):\n",
    "    \n",
    "    \"\"\"\n",
    "    This function takes two timestamps start and end as input returns the difference in hours.\n",
    "    If the argument 'cal_weekday' is set True, it calls function weekday_hours. \n",
    "    \"\"\"\n",
    "    \n",
    "    d1 = pd.to_datetime(start) \n",
    "    d2 = pd.to_datetime(end)   \n",
    "    diff=(d2-d1).total_seconds()\n",
    "    hrs_difference = round(diff/ 3600)\n",
    "    if weekday_cal:\n",
    "        hrs_difference = weekday_hours(start,end)\n",
    "    return hrs_difference"
   ]
  },
  {
   "cell_type": "code",
   "execution_count": 3,
   "id": "7be312b8",
   "metadata": {},
   "outputs": [],
   "source": [
    "def weekday_hours(start, end):\n",
    "    \"\"\"\n",
    "    This function calculates hour difference only during weekdays between the window\n",
    "    9.00 to 17.00 (8hrs)\n",
    "    \n",
    "    This takes into account late entry(>9.00) and early exit(>17.00)\n",
    "    \n",
    "    \"\"\"\n",
    "    \n",
    "    d1 = pd.to_datetime(start) \n",
    "    d2 = pd.to_datetime(end)   \n",
    "    worktiming=[9, 17] \n",
    "    wd = pd.bdate_range(d1, d2) \n",
    "    day_hours = (worktiming[1] - worktiming[0])\n",
    "    day_minutes = day_hours * 60 \n",
    "    day_seconds = day_minutes * 60             \n",
    "    full_days = len(wd)\n",
    "\n",
    "    day1 = start[:10] \n",
    "    day2 = end[:10] \n",
    "\n",
    "    dt1 = pd.to_datetime(day1 + \" \" + str(worktiming[0]) + \":00\") \n",
    "    dt2 = pd.to_datetime(day2 + \" \" + str(worktiming[1]) + \":00\") \n",
    "\n",
    "    late_entry, early_exit= 0, 0\n",
    "    if day1 in wd:\n",
    "        late_entry = max(pd.Timedelta(d1 - dt1).total_seconds(), 0) \n",
    "\n",
    "    if day2 in wd:\n",
    "        early_exit = max(pd.Timedelta(dt2 - d2).total_seconds(), 0) \n",
    "\n",
    "    \n",
    "    diff = full_days * day_seconds - late_entry - early_exit\n",
    "    hrs_difference = round(diff/ 3600)\n",
    "\n",
    "    return hrs_difference\n",
    "    "
   ]
  },
  {
   "cell_type": "code",
   "execution_count": 4,
   "id": "3a3f7230",
   "metadata": {},
   "outputs": [
    {
     "data": {
      "text/plain": [
       "2"
      ]
     },
     "execution_count": 4,
     "metadata": {},
     "output_type": "execute_result"
    }
   ],
   "source": [
    "weekday_hours(\"2023/02/13 11:00\",\"2023/02/13 13:00\")"
   ]
  },
  {
   "cell_type": "code",
   "execution_count": 5,
   "id": "1dd2b285",
   "metadata": {},
   "outputs": [
    {
     "data": {
      "text/plain": [
       "6"
      ]
     },
     "execution_count": 5,
     "metadata": {},
     "output_type": "execute_result"
    }
   ],
   "source": [
    "hour_difference(\"2023/02/13 11:00\",\"2023/02/13 19:00\", True)"
   ]
  },
  {
   "cell_type": "code",
   "execution_count": 6,
   "id": "053f464d",
   "metadata": {},
   "outputs": [
    {
     "data": {
      "text/plain": [
       "8"
      ]
     },
     "execution_count": 6,
     "metadata": {},
     "output_type": "execute_result"
    }
   ],
   "source": [
    "hour_difference(\"2023/02/13 11:00\",\"2023/02/13 19:00\", False)"
   ]
  },
  {
   "cell_type": "code",
   "execution_count": null,
   "id": "70937324",
   "metadata": {},
   "outputs": [],
   "source": []
  },
  {
   "cell_type": "code",
   "execution_count": null,
   "id": "07f6143a",
   "metadata": {},
   "outputs": [],
   "source": []
  }
 ],
 "metadata": {
  "kernelspec": {
   "display_name": "Python 3 (ipykernel)",
   "language": "python",
   "name": "python3"
  },
  "language_info": {
   "codemirror_mode": {
    "name": "ipython",
    "version": 3
   },
   "file_extension": ".py",
   "mimetype": "text/x-python",
   "name": "python",
   "nbconvert_exporter": "python",
   "pygments_lexer": "ipython3",
   "version": "3.10.8"
  },
  "toc": {
   "base_numbering": 1,
   "nav_menu": {},
   "number_sections": true,
   "sideBar": true,
   "skip_h1_title": false,
   "title_cell": "Table of Contents",
   "title_sidebar": "Contents",
   "toc_cell": false,
   "toc_position": {},
   "toc_section_display": true,
   "toc_window_display": false
  }
 },
 "nbformat": 4,
 "nbformat_minor": 5
}
